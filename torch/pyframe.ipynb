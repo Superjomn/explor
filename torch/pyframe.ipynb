{
 "cells": [
  {
   "cell_type": "code",
   "execution_count": 1,
   "id": "ac52e5c6",
   "metadata": {},
   "outputs": [],
   "source": [
    "import inspect"
   ]
  },
  {
   "cell_type": "code",
   "execution_count": 2,
   "id": "a9b1c8e3",
   "metadata": {},
   "outputs": [],
   "source": [
    "def frac(n):\n",
    "    return 1 if n == 0 else n * frac(n-1)"
   ]
  },
  {
   "cell_type": "code",
   "execution_count": 3,
   "id": "1fd54416",
   "metadata": {},
   "outputs": [],
   "source": [
    "f_code = frac.__code__"
   ]
  },
  {
   "cell_type": "code",
   "execution_count": 5,
   "id": "3a1cabc3",
   "metadata": {},
   "outputs": [
    {
     "name": "stdout",
     "output_type": "stream",
     "text": [
      "co_argcount 1\n",
      "co_cellvars ()\n",
      "co_code b'|\\x00d\\x01k\\x02r\\x0cd\\x02S\\x00|\\x00t\\x00|\\x00d\\x02\\x18\\x00\\x83\\x01\\x14\\x00S\\x00'\n",
      "co_consts (None, 0, 1)\n",
      "co_filename /tmp/ipykernel_2043038/1032921071.py\n",
      "co_firstlineno 1\n",
      "co_flags 67\n",
      "co_freevars ()\n",
      "co_kwonlyargcount 0\n",
      "co_lnotab b'\\x00\\x01'\n",
      "co_name frac\n",
      "co_names ('frac',)\n",
      "co_nlocals 1\n",
      "co_posonlyargcount 0\n",
      "co_stacksize 4\n",
      "co_varnames ('n',)\n"
     ]
    }
   ],
   "source": [
    "for k in dir(f_code):\n",
    "    if \"co_\" in k:\n",
    "        print(k, getattr(f_code, k))"
   ]
  },
  {
   "cell_type": "markdown",
   "id": "b162b9b1",
   "metadata": {},
   "source": [
    "## Get binary code"
   ]
  },
  {
   "cell_type": "code",
   "execution_count": 6,
   "id": "627b4f41",
   "metadata": {},
   "outputs": [],
   "source": [
    "import dis"
   ]
  },
  {
   "cell_type": "code",
   "execution_count": 7,
   "id": "f273263d",
   "metadata": {},
   "outputs": [
    {
     "name": "stdout",
     "output_type": "stream",
     "text": [
      "  2           0 LOAD_FAST                0 (n)\n",
      "              2 LOAD_CONST               1 (0)\n",
      "              4 COMPARE_OP               2 (==)\n",
      "              6 POP_JUMP_IF_FALSE       12\n",
      "              8 LOAD_CONST               2 (1)\n",
      "             10 RETURN_VALUE\n",
      "        >>   12 LOAD_FAST                0 (n)\n",
      "             14 LOAD_GLOBAL              0 (frac)\n",
      "             16 LOAD_FAST                0 (n)\n",
      "             18 LOAD_CONST               2 (1)\n",
      "             20 BINARY_SUBTRACT\n",
      "             22 CALL_FUNCTION            1\n",
      "             24 BINARY_MULTIPLY\n",
      "             26 RETURN_VALUE\n",
      "None\n"
     ]
    }
   ],
   "source": [
    "print(dis.dis(frac))"
   ]
  },
  {
   "cell_type": "code",
   "execution_count": null,
   "id": "2257bcc8",
   "metadata": {},
   "outputs": [],
   "source": []
  }
 ],
 "metadata": {
  "kernelspec": {
   "display_name": "Python 3 (ipykernel)",
   "language": "python",
   "name": "python3"
  },
  "language_info": {
   "codemirror_mode": {
    "name": "ipython",
    "version": 3
   },
   "file_extension": ".py",
   "mimetype": "text/x-python",
   "name": "python",
   "nbconvert_exporter": "python",
   "pygments_lexer": "ipython3",
   "version": "3.8.10"
  }
 },
 "nbformat": 4,
 "nbformat_minor": 5
}
