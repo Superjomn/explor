{
 "cells": [
  {
   "attachments": {},
   "cell_type": "markdown",
   "metadata": {},
   "source": [
    "# An exploration to Python VM"
   ]
  },
  {
   "attachments": {},
   "cell_type": "markdown",
   "metadata": {},
   "source": [
    "Reference to https://leanpub.com/insidethepythonvirtualmachine/read#leanpub-auto-code-objects"
   ]
  },
  {
   "attachments": {},
   "cell_type": "markdown",
   "metadata": {},
   "source": [
    "## PyCodeObject"
   ]
  },
  {
   "cell_type": "code",
   "execution_count": 1,
   "metadata": {},
   "outputs": [
    {
     "data": {
      "text/plain": [
       "<code object foo at 0x7f126c907b30, file \"/tmp/ipykernel_3378401/73030821.py\", line 1>"
      ]
     },
     "execution_count": 1,
     "metadata": {},
     "output_type": "execute_result"
    }
   ],
   "source": [
    "def foo(name, age):\n",
    "    ''' Get the information of a person. '''\n",
    "    born = 2023 - age\n",
    "    return f\"hello {name}, born at {born}!\"\n",
    "\n",
    "foo.__code__"
   ]
  },
  {
   "cell_type": "code",
   "execution_count": 2,
   "metadata": {},
   "outputs": [
    {
     "data": {
      "text/plain": [
       "['__class__',\n",
       " '__delattr__',\n",
       " '__dir__',\n",
       " '__doc__',\n",
       " '__eq__',\n",
       " '__format__',\n",
       " '__ge__',\n",
       " '__getattribute__',\n",
       " '__gt__',\n",
       " '__hash__',\n",
       " '__init__',\n",
       " '__init_subclass__',\n",
       " '__le__',\n",
       " '__lt__',\n",
       " '__ne__',\n",
       " '__new__',\n",
       " '__reduce__',\n",
       " '__reduce_ex__',\n",
       " '__repr__',\n",
       " '__setattr__',\n",
       " '__sizeof__',\n",
       " '__str__',\n",
       " '__subclasshook__',\n",
       " 'co_argcount',\n",
       " 'co_cellvars',\n",
       " 'co_code',\n",
       " 'co_consts',\n",
       " 'co_filename',\n",
       " 'co_firstlineno',\n",
       " 'co_flags',\n",
       " 'co_freevars',\n",
       " 'co_kwonlyargcount',\n",
       " 'co_lnotab',\n",
       " 'co_name',\n",
       " 'co_names',\n",
       " 'co_nlocals',\n",
       " 'co_posonlyargcount',\n",
       " 'co_stacksize',\n",
       " 'co_varnames',\n",
       " 'replace']"
      ]
     },
     "execution_count": 2,
     "metadata": {},
     "output_type": "execute_result"
    }
   ],
   "source": [
    "dir(foo.__code__)"
   ]
  },
  {
   "cell_type": "code",
   "execution_count": 3,
   "metadata": {},
   "outputs": [
    {
     "name": "stdout",
     "output_type": "stream",
     "text": [
      "code(argcount, posonlyargcount, kwonlyargcount, nlocals, stacksize,\n",
      "      flags, codestring, constants, names, varnames, filename, name,\n",
      "      firstlineno, lnotab[, freevars[, cellvars]])\n",
      "\n",
      "Create a code object.  Not for the faint of heart.\n"
     ]
    }
   ],
   "source": [
    "print(foo.__code__.__doc__)"
   ]
  },
  {
   "cell_type": "code",
   "execution_count": 4,
   "metadata": {},
   "outputs": [],
   "source": [
    "import dis"
   ]
  },
  {
   "cell_type": "code",
   "execution_count": 5,
   "metadata": {},
   "outputs": [
    {
     "name": "stdout",
     "output_type": "stream",
     "text": [
      "  3           0 LOAD_CONST               1 (2023)\n",
      "              2 LOAD_FAST                1 (age)\n",
      "              4 BINARY_SUBTRACT\n",
      "              6 STORE_FAST               2 (born)\n",
      "\n",
      "  4           8 LOAD_CONST               2 ('hello ')\n",
      "             10 LOAD_FAST                0 (name)\n",
      "             12 FORMAT_VALUE             0\n",
      "             14 LOAD_CONST               3 (', born at ')\n",
      "             16 LOAD_FAST                2 (born)\n",
      "             18 FORMAT_VALUE             0\n",
      "             20 LOAD_CONST               4 ('!')\n",
      "             22 BUILD_STRING             5\n",
      "             24 RETURN_VALUE\n"
     ]
    }
   ],
   "source": [
    "dis.dis(foo)"
   ]
  },
  {
   "cell_type": "code",
   "execution_count": 6,
   "metadata": {},
   "outputs": [
    {
     "name": "stdout",
     "output_type": "stream",
     "text": [
      "  2           0 LOAD_CONST               1 (<code object foo at 0x7f126c9075b0, file \"/tmp/ipykernel_3378401/2804291229.py\", line 2>)\n",
      "              2 LOAD_CONST               2 ('call_foo.<locals>.foo')\n",
      "              4 MAKE_FUNCTION            0\n",
      "              6 STORE_FAST               0 (foo)\n",
      "\n",
      "  4           8 LOAD_FAST                0 (foo)\n",
      "             10 LOAD_CONST               3 ('world')\n",
      "             12 CALL_FUNCTION            1\n",
      "             14 RETURN_VALUE\n",
      "\n",
      "Disassembly of <code object foo at 0x7f126c9075b0, file \"/tmp/ipykernel_3378401/2804291229.py\", line 2>:\n",
      "  3           0 LOAD_CONST               1 ('hello ')\n",
      "              2 LOAD_FAST                0 (name)\n",
      "              4 FORMAT_VALUE             0\n",
      "              6 LOAD_CONST               2 ('!')\n",
      "              8 BUILD_STRING             3\n",
      "             10 RETURN_VALUE\n"
     ]
    }
   ],
   "source": [
    "def call_foo():\n",
    "    def foo(name):\n",
    "        return f\"hello {name}!\"\n",
    "    return foo(\"world\")\n",
    "\n",
    "dis.dis(call_foo)"
   ]
  },
  {
   "attachments": {},
   "cell_type": "markdown",
   "metadata": {},
   "source": [
    "Let's explore some essential attributes of the code object."
   ]
  },
  {
   "attachments": {},
   "cell_type": "markdown",
   "metadata": {},
   "source": [
    "**co_names** is a tuple containing global attributes and methods used inside the scope."
   ]
  },
  {
   "cell_type": "code",
   "execution_count": 7,
   "metadata": {},
   "outputs": [
    {
     "data": {
      "text/plain": [
       "()"
      ]
     },
     "execution_count": 7,
     "metadata": {},
     "output_type": "execute_result"
    }
   ],
   "source": [
    "call_foo.__code__.co_names"
   ]
  },
  {
   "attachments": {},
   "cell_type": "markdown",
   "metadata": {},
   "source": [
    "**co_varname** is the tuple containing local variable names used in function."
   ]
  },
  {
   "cell_type": "code",
   "execution_count": 8,
   "metadata": {},
   "outputs": [
    {
     "data": {
      "text/plain": [
       "('foo',)"
      ]
     },
     "execution_count": 8,
     "metadata": {},
     "output_type": "execute_result"
    }
   ],
   "source": [
    "call_foo.__code__.co_varnames"
   ]
  },
  {
   "attachments": {},
   "cell_type": "markdown",
   "metadata": {},
   "source": [
    "**co_consts** returns the literals used by bytecode."
   ]
  },
  {
   "attachments": {},
   "cell_type": "markdown",
   "metadata": {},
   "source": [
    "The global `foo` method should display richer details"
   ]
  },
  {
   "cell_type": "code",
   "execution_count": 9,
   "metadata": {},
   "outputs": [
    {
     "data": {
      "text/plain": [
       "(None,\n",
       " <code object foo at 0x7f126c9075b0, file \"/tmp/ipykernel_3378401/2804291229.py\", line 2>,\n",
       " 'call_foo.<locals>.foo',\n",
       " 'world')"
      ]
     },
     "execution_count": 9,
     "metadata": {},
     "output_type": "execute_result"
    }
   ],
   "source": [
    "call_foo.__code__.co_consts"
   ]
  },
  {
   "cell_type": "code",
   "execution_count": 10,
   "metadata": {},
   "outputs": [
    {
     "data": {
      "text/plain": [
       "()"
      ]
     },
     "execution_count": 10,
     "metadata": {},
     "output_type": "execute_result"
    }
   ],
   "source": [
    "foo.__code__.co_names"
   ]
  },
  {
   "cell_type": "code",
   "execution_count": 11,
   "metadata": {},
   "outputs": [
    {
     "data": {
      "text/plain": [
       "('name', 'age', 'born')"
      ]
     },
     "execution_count": 11,
     "metadata": {},
     "output_type": "execute_result"
    }
   ],
   "source": [
    "foo.__code__.co_varnames"
   ]
  },
  {
   "cell_type": "code",
   "execution_count": 12,
   "metadata": {},
   "outputs": [
    {
     "data": {
      "text/plain": [
       "(' Get the information of a person. ', 2023, 'hello ', ', born at ', '!')"
      ]
     },
     "execution_count": 12,
     "metadata": {},
     "output_type": "execute_result"
    }
   ],
   "source": [
    "foo.__code__.co_consts"
   ]
  },
  {
   "attachments": {},
   "cell_type": "markdown",
   "metadata": {},
   "source": [
    "## Alter the Code Object"
   ]
  },
  {
   "attachments": {},
   "cell_type": "markdown",
   "metadata": {},
   "source": [
    "Let's define a naive function and get bytecode first.\n",
    "\n",
    "Reference https://stackoverflow.com/questions/33348067/modifying-python-bytecode"
   ]
  },
  {
   "cell_type": "code",
   "execution_count": 13,
   "metadata": {},
   "outputs": [
    {
     "name": "stdout",
     "output_type": "stream",
     "text": [
      "  2           0 LOAD_CONST               1 (0)\n",
      "              2 STORE_FAST               0 (a)\n",
      "\n",
      "  3           4 LOAD_CONST               2 (10)\n",
      "              6 STORE_FAST               0 (a)\n",
      "\n",
      "  4           8 LOAD_FAST                0 (a)\n",
      "             10 RETURN_VALUE\n"
     ]
    }
   ],
   "source": [
    "def fact():\n",
    "    a = 0\n",
    "    a = 10\n",
    "    return a\n",
    "dis.dis(fact)"
   ]
  },
  {
   "cell_type": "code",
   "execution_count": 14,
   "metadata": {},
   "outputs": [
    {
     "data": {
      "text/plain": [
       "b'd\\x01}\\x00d\\x02}\\x00|\\x00S\\x00'"
      ]
     },
     "execution_count": 14,
     "metadata": {},
     "output_type": "execute_result"
    }
   ],
   "source": [
    "fact.__code__.co_code"
   ]
  },
  {
   "attachments": {},
   "cell_type": "markdown",
   "metadata": {},
   "source": [
    "By default, the `fact()` should get 10"
   ]
  },
  {
   "cell_type": "code",
   "execution_count": 15,
   "metadata": {},
   "outputs": [
    {
     "data": {
      "text/plain": [
       "10"
      ]
     },
     "execution_count": 15,
     "metadata": {},
     "output_type": "execute_result"
    }
   ],
   "source": [
    "fact()"
   ]
  },
  {
   "attachments": {},
   "cell_type": "markdown",
   "metadata": {},
   "source": [
    "Let's alter the code by removing the `a=1` line and make simply return 0"
   ]
  },
  {
   "cell_type": "code",
   "execution_count": 16,
   "metadata": {},
   "outputs": [
    {
     "name": "stdout",
     "output_type": "stream",
     "text": [
      "          0 LOAD_CONST               1 (1)\n",
      "          2 LOAD_FAST                0 (0)\n",
      "          4 RETURN_VALUE\n"
     ]
    }
   ],
   "source": [
    "fact_co_code = fact.__code__.co_code\n",
    "new_co_code = fact_co_code[:2] + fact_co_code[8:]\n",
    "dis.dis(new_co_code)"
   ]
  },
  {
   "cell_type": "code",
   "execution_count": 17,
   "metadata": {},
   "outputs": [],
   "source": [
    "from typing import *\n",
    "import types\n",
    "def patch(frame_or_func: Union[types.FrameType, types.FunctionType]):\n",
    "    fact_code = frame_or_func.f_code if isinstance(frame_or_func, types.FrameType) else frame_or_func.__code__\n",
    "    new_co_code = fact_code.co_code[:2] + fact_code.co_code[8:]\n",
    "    print('dis', dis.dis(new_co_code))\n",
    "    new_code = types.CodeType( \n",
    "        fact_code.co_argcount,\n",
    "        fact_code.co_kwonlyargcount, \n",
    "        fact_code.co_posonlyargcount, \n",
    "        fact_code.co_nlocals,\n",
    "        fact_code.co_stacksize,\n",
    "        fact_code.co_flags,\n",
    "        new_co_code,  # fn_code.co_code: this you changed\n",
    "        fact_code.co_consts,\n",
    "        fact_code.co_names,\n",
    "        fact_code.co_varnames,\n",
    "        fact_code.co_filename,\n",
    "        fact_code.co_name,\n",
    "        fact_code.co_firstlineno,\n",
    "        fact_code.co_lnotab,   # In general, You should adjust this\n",
    "        fact_code.co_freevars,\n",
    "        fact_code.co_cellvars\n",
    "    )\n",
    "    return new_code"
   ]
  },
  {
   "attachments": {},
   "cell_type": "markdown",
   "metadata": {},
   "source": [
    "Here we reuse PyTorch's `set_frame` directly to alter the frame behavior. "
   ]
  },
  {
   "cell_type": "code",
   "execution_count": 18,
   "metadata": {},
   "outputs": [],
   "source": [
    "from torch._dynamo.eval_frame import set_eval_frame"
   ]
  },
  {
   "cell_type": "code",
   "execution_count": 19,
   "metadata": {},
   "outputs": [],
   "source": [
    "def fact_dummy():\n",
    "    a = 1\n",
    "    a = 10\n",
    "    return a"
   ]
  },
  {
   "cell_type": "code",
   "execution_count": 32,
   "metadata": {},
   "outputs": [],
   "source": [
    "from dataclasses import dataclass\n",
    "from torch._dynamo.types import GuardedCode\n",
    "from torch._dynamo.convert_frame import CheckFunctionManager\n",
    "check_fn = CheckFunctionManager(None, locals(), globals(), None).check_fn\n",
    "check_fn.args = []\n",
    "\n",
    "def callback(frame:types.FrameType, cache:int):\n",
    "    if frame.f_code.co_name == 'fact_dummy':\n",
    "        patched_code = patch(frame)\n",
    "        new_fn = types.FunctionType(patched_code, globals())\n",
    "        print(\"fact_dummy res:\", new_fn())\n",
    "        return GuardedCode(patched_code, check_fn=check_fn)\n",
    "    return\n",
    "    if \"/usr\" in frame.f_code.co_filename:\n",
    "        return GuardedCode(frame.f_code)\n",
    "    print('name', frame.f_code.co_name)\n",
    "    if True or frame.f_code.co_name == 'fact_dummy':\n",
    "        #patched_code = patch(frame)\n",
    "        #return GuardedCode(patched_code)\n",
    "        return GuardedCode(frame.f_code)\n",
    "    return\n",
    "\n",
    "set_eval_frame(callback)"
   ]
  },
  {
   "cell_type": "code",
   "execution_count": 33,
   "metadata": {},
   "outputs": [
    {
     "name": "stdout",
     "output_type": "stream",
     "text": [
      "ERROR RUNNING GUARDS fact_dummy /tmp/ipykernel_3378401/2630368416.py:1\n"
     ]
    },
    {
     "ename": "AttributeError",
     "evalue": "'function' object has no attribute 'args'",
     "output_type": "error",
     "traceback": [
      "\u001b[0;31m---------------------------------------------------------------------------\u001b[0m",
      "\u001b[0;31mAttributeError\u001b[0m                            Traceback (most recent call last)",
      "\u001b[1;32m/home/chunwei/project/explor/torch/python-vm.ipynb 单元格 34\u001b[0m in \u001b[0;36m<cell line: 1>\u001b[0;34m()\u001b[0m\n\u001b[0;32m----> <a href='vscode-notebook-cell://ssh-remote%2B10.19.207.164/home/chunwei/project/explor/torch/python-vm.ipynb#X55sdnNjb2RlLXJlbW90ZQ%3D%3D?line=0'>1</a>\u001b[0m fact_dummy()\n",
      "File \u001b[0;32m~/trienv/lib/python3.8/site-packages/torch/_dynamo/guards.py:717\u001b[0m, in \u001b[0;36mguard_error_hook\u001b[0;34m(guard_fn, code, f_locals, last)\u001b[0m\n\u001b[1;32m    710\u001b[0m \u001b[39mprint\u001b[39m(\n\u001b[1;32m    711\u001b[0m     \u001b[39mf\u001b[39m\u001b[39m\"\u001b[39m\u001b[39mERROR RUNNING GUARDS \u001b[39m\u001b[39m{\u001b[39;00mcode\u001b[39m.\u001b[39mco_name\u001b[39m}\u001b[39;00m\u001b[39m \u001b[39m\u001b[39m{\u001b[39;00mcode\u001b[39m.\u001b[39mco_filename\u001b[39m}\u001b[39;00m\u001b[39m:\u001b[39m\u001b[39m{\u001b[39;00mcode\u001b[39m.\u001b[39mco_firstlineno\u001b[39m}\u001b[39;00m\u001b[39m\"\u001b[39m\n\u001b[1;32m    712\u001b[0m )\n\u001b[1;32m    713\u001b[0m \u001b[39m# TODO: If we passed in the exception here, we could get a precise\u001b[39;00m\n\u001b[1;32m    714\u001b[0m \u001b[39m# column number of which subexpression failed.  But that would also\u001b[39;00m\n\u001b[1;32m    715\u001b[0m \u001b[39m# require us to have the TRUE code that was eval'ed, not a shoddy\u001b[39;00m\n\u001b[1;32m    716\u001b[0m \u001b[39m# reconstruction (like is done here)\u001b[39;00m\n\u001b[0;32m--> 717\u001b[0m \u001b[39mprint\u001b[39m(\u001b[39m\"\u001b[39m\u001b[39mlambda \u001b[39m\u001b[39m\"\u001b[39m \u001b[39m+\u001b[39m \u001b[39m\"\u001b[39m\u001b[39m, \u001b[39m\u001b[39m\"\u001b[39m\u001b[39m.\u001b[39mjoin(guard_fn\u001b[39m.\u001b[39;49margs) \u001b[39m+\u001b[39m \u001b[39m\"\u001b[39m\u001b[39m:\u001b[39m\u001b[39m\"\u001b[39m)\n\u001b[1;32m    718\u001b[0m \u001b[39mprint\u001b[39m(\u001b[39m\"\u001b[39m\u001b[39m \u001b[39m\u001b[39m\"\u001b[39m, \u001b[39m\"\u001b[39m\u001b[39m and\u001b[39m\u001b[39m\\n\u001b[39;00m\u001b[39m  \u001b[39m\u001b[39m\"\u001b[39m\u001b[39m.\u001b[39mjoin(guard_fn\u001b[39m.\u001b[39mcode_parts))\n",
      "\u001b[0;31mAttributeError\u001b[0m: 'function' object has no attribute 'args'"
     ]
    }
   ],
   "source": [
    "fact_dummy()"
   ]
  },
  {
   "cell_type": "code",
   "execution_count": 22,
   "metadata": {},
   "outputs": [
    {
     "data": {
      "text/plain": [
       "<function __main__.callback(frame: frame, cache: int)>"
      ]
     },
     "execution_count": 22,
     "metadata": {},
     "output_type": "execute_result"
    }
   ],
   "source": [
    "set_eval_frame(None)"
   ]
  },
  {
   "cell_type": "code",
   "execution_count": null,
   "metadata": {},
   "outputs": [],
   "source": []
  }
 ],
 "metadata": {
  "kernelspec": {
   "display_name": "trienv",
   "language": "python",
   "name": "python3"
  },
  "language_info": {
   "codemirror_mode": {
    "name": "ipython",
    "version": 3
   },
   "file_extension": ".py",
   "mimetype": "text/x-python",
   "name": "python",
   "nbconvert_exporter": "python",
   "pygments_lexer": "ipython3",
   "version": "3.8.10"
  },
  "orig_nbformat": 4,
  "vscode": {
   "interpreter": {
    "hash": "9be45825b6e11033c42eb29377956e200d55264a3cce733a812afa9001a7e64f"
   }
  }
 },
 "nbformat": 4,
 "nbformat_minor": 2
}
